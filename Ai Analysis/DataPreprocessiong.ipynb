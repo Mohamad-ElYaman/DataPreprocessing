{
 "cells": [
  {
   "cell_type": "code",
   "execution_count": 25,
   "metadata": {},
   "outputs": [],
   "source": [
    "import pandas as pd\n",
    "import numpy as np"
   ]
  },
  {
   "cell_type": "code",
   "execution_count": 26,
   "metadata": {},
   "outputs": [],
   "source": [
    "data = pd.read_csv('My_data.csv')"
   ]
  },
  {
   "cell_type": "code",
   "execution_count": 27,
   "metadata": {},
   "outputs": [
    {
     "data": {
      "text/html": [
       "<div>\n",
       "<style scoped>\n",
       "    .dataframe tbody tr th:only-of-type {\n",
       "        vertical-align: middle;\n",
       "    }\n",
       "\n",
       "    .dataframe tbody tr th {\n",
       "        vertical-align: top;\n",
       "    }\n",
       "\n",
       "    .dataframe thead th {\n",
       "        text-align: right;\n",
       "    }\n",
       "</style>\n",
       "<table border=\"1\" class=\"dataframe\">\n",
       "  <thead>\n",
       "    <tr style=\"text-align: right;\">\n",
       "      <th></th>\n",
       "      <th>Job titiles</th>\n",
       "      <th>AI Impact</th>\n",
       "      <th>Tasks</th>\n",
       "      <th>AI models</th>\n",
       "      <th>AI_Workload_Ratio</th>\n",
       "      <th>Domain</th>\n",
       "    </tr>\n",
       "  </thead>\n",
       "  <tbody>\n",
       "    <tr>\n",
       "      <th>0</th>\n",
       "      <td>Communications Manager</td>\n",
       "      <td>98%</td>\n",
       "      <td>365</td>\n",
       "      <td>2546</td>\n",
       "      <td>0.143362</td>\n",
       "      <td>Communication &amp; PR</td>\n",
       "    </tr>\n",
       "    <tr>\n",
       "      <th>1</th>\n",
       "      <td>Data Collector</td>\n",
       "      <td>95%</td>\n",
       "      <td>299</td>\n",
       "      <td>2148</td>\n",
       "      <td>0.139199</td>\n",
       "      <td>Data &amp; IT</td>\n",
       "    </tr>\n",
       "    <tr>\n",
       "      <th>2</th>\n",
       "      <td>Data Entry</td>\n",
       "      <td>95%</td>\n",
       "      <td>325</td>\n",
       "      <td>2278</td>\n",
       "      <td>0.142669</td>\n",
       "      <td>Administrative &amp; Clerical</td>\n",
       "    </tr>\n",
       "    <tr>\n",
       "      <th>3</th>\n",
       "      <td>Mail Clerk</td>\n",
       "      <td>95%</td>\n",
       "      <td>193</td>\n",
       "      <td>1366</td>\n",
       "      <td>0.141288</td>\n",
       "      <td>Leadership &amp; Strategy</td>\n",
       "    </tr>\n",
       "    <tr>\n",
       "      <th>4</th>\n",
       "      <td>Compliance Officer</td>\n",
       "      <td>92%</td>\n",
       "      <td>194</td>\n",
       "      <td>1369</td>\n",
       "      <td>0.141709</td>\n",
       "      <td>Medical &amp; Healthcare</td>\n",
       "    </tr>\n",
       "    <tr>\n",
       "      <th>...</th>\n",
       "      <td>...</td>\n",
       "      <td>...</td>\n",
       "      <td>...</td>\n",
       "      <td>...</td>\n",
       "      <td>...</td>\n",
       "      <td>...</td>\n",
       "    </tr>\n",
       "    <tr>\n",
       "      <th>4701</th>\n",
       "      <td>Singer</td>\n",
       "      <td>5%</td>\n",
       "      <td>686</td>\n",
       "      <td>2798</td>\n",
       "      <td>0.245175</td>\n",
       "      <td>Data &amp; IT</td>\n",
       "    </tr>\n",
       "    <tr>\n",
       "      <th>4702</th>\n",
       "      <td>Airport</td>\n",
       "      <td>5%</td>\n",
       "      <td>556</td>\n",
       "      <td>2206</td>\n",
       "      <td>0.252040</td>\n",
       "      <td>Administrative &amp; Clerical</td>\n",
       "    </tr>\n",
       "    <tr>\n",
       "      <th>4703</th>\n",
       "      <td>Director</td>\n",
       "      <td>5%</td>\n",
       "      <td>1316</td>\n",
       "      <td>4695</td>\n",
       "      <td>0.280298</td>\n",
       "      <td>Leadership &amp; Strategy</td>\n",
       "    </tr>\n",
       "    <tr>\n",
       "      <th>4704</th>\n",
       "      <td>Nurse</td>\n",
       "      <td>5%</td>\n",
       "      <td>710</td>\n",
       "      <td>2594</td>\n",
       "      <td>0.273709</td>\n",
       "      <td>Medical &amp; Healthcare</td>\n",
       "    </tr>\n",
       "    <tr>\n",
       "      <th>4705</th>\n",
       "      <td>Technician</td>\n",
       "      <td>5%</td>\n",
       "      <td>825</td>\n",
       "      <td>3256</td>\n",
       "      <td>0.253378</td>\n",
       "      <td>Supply Chain &amp; Logistics</td>\n",
       "    </tr>\n",
       "  </tbody>\n",
       "</table>\n",
       "<p>4706 rows × 6 columns</p>\n",
       "</div>"
      ],
      "text/plain": [
       "                 Job titiles AI Impact  Tasks  AI models  AI_Workload_Ratio  \\\n",
       "0     Communications Manager       98%    365       2546           0.143362   \n",
       "1             Data Collector       95%    299       2148           0.139199   \n",
       "2                 Data Entry       95%    325       2278           0.142669   \n",
       "3                 Mail Clerk       95%    193       1366           0.141288   \n",
       "4         Compliance Officer       92%    194       1369           0.141709   \n",
       "...                      ...       ...    ...        ...                ...   \n",
       "4701                  Singer        5%    686       2798           0.245175   \n",
       "4702                 Airport        5%    556       2206           0.252040   \n",
       "4703                Director        5%   1316       4695           0.280298   \n",
       "4704                   Nurse        5%    710       2594           0.273709   \n",
       "4705              Technician        5%    825       3256           0.253378   \n",
       "\n",
       "                         Domain  \n",
       "0            Communication & PR  \n",
       "1                     Data & IT  \n",
       "2     Administrative & Clerical  \n",
       "3         Leadership & Strategy  \n",
       "4          Medical & Healthcare  \n",
       "...                         ...  \n",
       "4701                  Data & IT  \n",
       "4702  Administrative & Clerical  \n",
       "4703      Leadership & Strategy  \n",
       "4704       Medical & Healthcare  \n",
       "4705   Supply Chain & Logistics  \n",
       "\n",
       "[4706 rows x 6 columns]"
      ]
     },
     "execution_count": 27,
     "metadata": {},
     "output_type": "execute_result"
    }
   ],
   "source": [
    "data"
   ]
  },
  {
   "cell_type": "markdown",
   "metadata": {},
   "source": [
    "The dataframe contains 4706 entries and 6 variables\n",
    "\n",
    "Job titles variables is misspelled and needs to be fixed\n",
    "\n",
    "It seems that some job titles may not fit certain domains, such as in row 4701 in the Data & IT domain we find a Singer job title. For this analysis this will be ignored due to it needing manual search of each job in every domain and knowledge of each undustry to rate the relevance of the job title for each domain."
   ]
  },
  {
   "cell_type": "code",
   "execution_count": 28,
   "metadata": {},
   "outputs": [
    {
     "name": "stdout",
     "output_type": "stream",
     "text": [
      "<class 'pandas.core.frame.DataFrame'>\n",
      "RangeIndex: 4706 entries, 0 to 4705\n",
      "Data columns (total 6 columns):\n",
      " #   Column             Non-Null Count  Dtype  \n",
      "---  ------             --------------  -----  \n",
      " 0   Job titiles        4706 non-null   object \n",
      " 1   AI Impact          4706 non-null   object \n",
      " 2   Tasks              4706 non-null   int64  \n",
      " 3   AI models          4706 non-null   int64  \n",
      " 4   AI_Workload_Ratio  4706 non-null   float64\n",
      " 5   Domain             4706 non-null   object \n",
      "dtypes: float64(1), int64(2), object(3)\n",
      "memory usage: 220.7+ KB\n"
     ]
    }
   ],
   "source": [
    "data.info()"
   ]
  },
  {
   "cell_type": "markdown",
   "metadata": {},
   "source": [
    "All the data looks good and There are no missing values"
   ]
  },
  {
   "cell_type": "code",
   "execution_count": 29,
   "metadata": {},
   "outputs": [],
   "source": [
    "# Assigning columns to rename\n",
    "column_rename_mapping = {\n",
    "    'Job titiles': 'Job Title'\n",
    "}\n",
    "\n",
    "# Applying column renaming to dataframe\n",
    "data.rename(columns=column_rename_mapping, inplace=True)"
   ]
  },
  {
   "cell_type": "code",
   "execution_count": 30,
   "metadata": {},
   "outputs": [
    {
     "name": "stdout",
     "output_type": "stream",
     "text": [
      "All the domains available:\n",
      "['Communication & PR' 'Data & IT' 'Administrative & Clerical'\n",
      " 'Leadership & Strategy' 'Medical & Healthcare' 'Supply Chain & Logistics'\n",
      " 'Law Enforcement' 'Construction' 'Sales & Marketing' 'Hospitality']\n"
     ]
    }
   ],
   "source": [
    "unique_domains = data['Domain'].unique()\n",
    "\n",
    "print('All the domains available:')\n",
    "print(unique_domains)"
   ]
  },
  {
   "cell_type": "code",
   "execution_count": 31,
   "metadata": {},
   "outputs": [
    {
     "name": "stdout",
     "output_type": "stream",
     "text": [
      "Domain Category: Administrative & Clerical\n",
      "Number of jobs present in the domain: 471\n",
      "\n",
      "Domain Category: Communication & PR\n",
      "Number of jobs present in the domain: 471\n",
      "\n",
      "Domain Category: Construction\n",
      "Number of jobs present in the domain: 470\n",
      "\n",
      "Domain Category: Data & IT\n",
      "Number of jobs present in the domain: 471\n",
      "\n",
      "Domain Category: Hospitality\n",
      "Number of jobs present in the domain: 470\n",
      "\n",
      "Domain Category: Law Enforcement\n",
      "Number of jobs present in the domain: 470\n",
      "\n",
      "Domain Category: Leadership & Strategy\n",
      "Number of jobs present in the domain: 471\n",
      "\n",
      "Domain Category: Medical & Healthcare\n",
      "Number of jobs present in the domain: 471\n",
      "\n",
      "Domain Category: Sales & Marketing\n",
      "Number of jobs present in the domain: 470\n",
      "\n",
      "Domain Category: Supply Chain & Logistics\n",
      "Number of jobs present in the domain: 471\n",
      "\n"
     ]
    }
   ],
   "source": [
    "Domain_categories = data.groupby('Domain')['Job Title'].count()\n",
    "\n",
    "# Converting results to a dictionary\n",
    "result = Domain_categories.to_dict()\n",
    "\n",
    "# Displaying results\n",
    "for category, offense_types in result.items():\n",
    "    print(f'Domain Category: {category}')\n",
    "    print(f'Number of jobs present in the domain: {offense_types}')\n",
    "    print()"
   ]
  },
  {
   "cell_type": "markdown",
   "metadata": {},
   "source": [
    "Due to the similar count of jobs in every domain, a suspicion arised in whether the domains have the same job titles.\n",
    "\n",
    "We will be checking how many jobs the domains have in common"
   ]
  },
  {
   "cell_type": "code",
   "execution_count": 35,
   "metadata": {},
   "outputs": [
    {
     "name": "stdout",
     "output_type": "stream",
     "text": [
      "                      Domain  Unique Job Titles\n",
      "0  Administrative & Clerical                471\n",
      "1         Communication & PR                471\n",
      "2               Construction                470\n",
      "3                  Data & IT                471\n",
      "4                Hospitality                470\n",
      "5            Law Enforcement                470\n",
      "6      Leadership & Strategy                471\n",
      "7       Medical & Healthcare                471\n",
      "8          Sales & Marketing                470\n",
      "9   Supply Chain & Logistics                471\n"
     ]
    }
   ],
   "source": [
    "# Grouping the domains with the count of unique values found in each domain\n",
    "domain_counts = data.groupby('Domain')['Job Title'].nunique().reset_index()\n",
    "\n",
    "# Renaming 'Job Title' column for clarity\n",
    "domain_counts.rename(columns={'Job Title': 'Unique Job Titles'}, inplace=True)\n",
    "\n",
    "print(domain_counts)"
   ]
  },
  {
   "cell_type": "markdown",
   "metadata": {},
   "source": [
    "The count of unique job titles matches th count of jobs found in the earlier cell.\n",
    "\n",
    "We can conclude that we dont have duplicate job titles in this dataframe"
   ]
  },
  {
   "cell_type": "code",
   "execution_count": 36,
   "metadata": {},
   "outputs": [],
   "source": [
    "# Save as a csv file\n",
    "data.to_csv('updated_AI_data.csv')"
   ]
  }
 ],
 "metadata": {
  "kernelspec": {
   "display_name": "Python 3",
   "language": "python",
   "name": "python3"
  },
  "language_info": {
   "codemirror_mode": {
    "name": "ipython",
    "version": 3
   },
   "file_extension": ".py",
   "mimetype": "text/x-python",
   "name": "python",
   "nbconvert_exporter": "python",
   "pygments_lexer": "ipython3",
   "version": "3.8.8"
  },
  "orig_nbformat": 4
 },
 "nbformat": 4,
 "nbformat_minor": 2
}
